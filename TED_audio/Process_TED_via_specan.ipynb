{
 "cells": [
  {
   "cell_type": "markdown",
   "metadata": {},
   "source": [
    "# The following notebook includes:\n",
    "* Was used dataset from raw audio files in wav format from the corpus with TED TALKS (claps, noise, somewhere pieces of music, so not only clean speech itself) \n",
    "* Feature extraction made using R-package\n",
    "* Tried MLP network from the article\n",
    "* Tried other ML algorithms with tuning parameters\n"
   ]
  },
  {
   "cell_type": "code",
   "execution_count": 1,
   "metadata": {
    "collapsed": true
   },
   "outputs": [],
   "source": [
    "import os, sys, inspect, multiprocessing\n",
    "\n",
    "import pandas as pd\n",
    "import numpy as np\n",
    "from functools import reduce\n",
    "from tqdm import tqdm\n",
    "import matplotlib.pyplot as plt\n",
    "%matplotlib inline"
   ]
  },
  {
   "cell_type": "markdown",
   "metadata": {},
   "source": [
    "##### Preprocessing with warbleR, which calculates all the parameters we need"
   ]
  },
  {
   "cell_type": "code",
   "execution_count": 2,
   "metadata": {
    "collapsed": true
   },
   "outputs": [],
   "source": [
    "try: \n",
    "    specan_data = pd.read_csv('../TED_specan.csv')\n",
    "except FileNotFoundError:\n",
    "    currentdir = os.path.dirname(os.path.abspath(inspect.getfile(inspect.currentframe())))\n",
    "    parentdir = os.path.dirname(currentdir)\n",
    "    sys.path.insert(0,parentdir) \n",
    "    from process_input import make_csv_from_specan\n",
    "    make_csv_from_specan(speakers_file='../ted_speakers.csv', audios_directory='../TED_audio', to_csv_file='../TED_specan.csv')\n",
    "    specan_data = pd.read_csv('../TED_specan.csv')"
   ]
  },
  {
   "cell_type": "markdown",
   "metadata": {},
   "source": [
    "##### In this dataset we have inbalanced situation, so we bootstrap women and add them in order to equate both sexes"
   ]
  },
  {
   "cell_type": "code",
   "execution_count": 3,
   "metadata": {},
   "outputs": [
    {
     "name": "stdout",
     "output_type": "stream",
     "text": [
      "Men: 524 examples\n",
      "Women: 250 examples\n",
      "\n",
      "After random sampling and adding women to dataframe\n",
      "\n",
      "Men: 524 examples\n",
      "Women: 520 examples\n"
     ]
    }
   ],
   "source": [
    "print('Men: {} examples\\nWomen: {} examples'.format(*specan_data.sex.value_counts()))\n",
    "\n",
    "state = np.random.get_state()\n",
    "np.random.seed(42)\n",
    "indices = np.random.choice(specan_data[specan_data.sex == 0].index, 270)\n",
    "np.random.set_state(state)\n",
    "from sklearn.utils import shuffle\n",
    "balanced_data = shuffle(pd.concat([specan_data, specan_data.iloc[indices]]), random_state=42)\n",
    "print('\\nAfter random sampling and adding women to dataframe\\n')\n",
    "print('Men: {} examples\\nWomen: {} examples'.format(*balanced_data.sex.value_counts()))"
   ]
  },
  {
   "cell_type": "code",
   "execution_count": 4,
   "metadata": {
    "collapsed": true
   },
   "outputs": [],
   "source": [
    "balanced_data = balanced_data.drop(['Unnamed: 0'], axis=1)\n",
    "\n",
    "X_no_norm = balanced_data.drop(['sex'], axis=1)\n",
    "y = balanced_data.sex\n",
    "\n",
    "from sklearn.preprocessing import StandardScaler\n",
    "scaler = StandardScaler()\n",
    "X = scaler.fit_transform(X_no_norm)"
   ]
  },
  {
   "cell_type": "markdown",
   "metadata": {},
   "source": [
    "##### MLP from the article\n"
   ]
  },
  {
   "cell_type": "code",
   "execution_count": 5,
   "metadata": {},
   "outputs": [
    {
     "name": "stderr",
     "output_type": "stream",
     "text": [
      "/Users/alexparub/Packages/miniconda3/envs/jupyter3/lib/python3.6/site-packages/h5py/__init__.py:36: FutureWarning: Conversion of the second argument of issubdtype from `float` to `np.floating` is deprecated. In future, it will be treated as `np.float64 == np.dtype(float).type`.\n",
      "  from ._conv import register_converters as _register_converters\n",
      "Using TensorFlow backend.\n"
     ]
    }
   ],
   "source": [
    "state = np.random.get_state()\n",
    "np.random.seed(42)\n",
    "\n",
    "from keras.models import Model\n",
    "from keras.layers import Input, Dense, Dropout\n",
    "from keras.optimizers import Nadam\n",
    "from keras.utils.np_utils import to_categorical\n",
    "\n",
    "y = to_categorical(y, 2)\n",
    "\n",
    "def neural_network():\n",
    "    \n",
    "    x_input = Input(shape=(21,))\n",
    "\n",
    "    hidden1 = Dense(units=64, activation='tanh')(x_input)\n",
    "    hidden1 = Dropout(0.25)(hidden1)\n",
    "    hidden2 = Dense(units=256, activation='tanh')(hidden1)\n",
    "    hidden2 = Dropout(0.25)(hidden2)\n",
    "    hidden3 = Dense(units=256, activation='tanh')(hidden2)\n",
    "    hidden3 = Dropout(0.25)(hidden3)\n",
    "    hidden4 = Dense(units=64, activation='tanh')(hidden3)\n",
    "\n",
    "    y_output = Dense(units=2, activation='softmax')(hidden4)\n",
    "\n",
    "    model = Model(inputs=x_input, outputs=y_output)\n",
    "    model.compile(loss='kullback_leibler_divergence', optimizer=Nadam(lr=1e-3), metrics=['accuracy'])\n",
    "    \n",
    "    return model"
   ]
  },
  {
   "cell_type": "code",
   "execution_count": 6,
   "metadata": {},
   "outputs": [
    {
     "name": "stdout",
     "output_type": "stream",
     "text": [
      "Accuracy: 0.833\n",
      "Accuracy: 0.813\n",
      "Accuracy: 0.828\n",
      "Accuracy: 0.813\n",
      "Accuracy: 0.798\n",
      "Neural network: 0.817±0.012\n"
     ]
    }
   ],
   "source": [
    "from sklearn.model_selection import StratifiedKFold\n",
    "\n",
    "kFold = StratifiedKFold(n_splits=5, shuffle=True, random_state=42)\n",
    "epochs = 150\n",
    "batch_size = 32\n",
    "\n",
    "scores = []\n",
    "for train, test in kFold.split(X, y[:, 0]):\n",
    "    model = neural_network()\n",
    "    model.fit(X[train], y[train], \n",
    "              validation_data=(X[test], y[test]), \n",
    "              epochs=epochs, batch_size=batch_size, verbose=0)\n",
    "    score = model.evaluate(X[test], y[test], verbose=0)\n",
    "    print('Accuracy: {:.3f}'.format(score[1]))\n",
    "    scores.append(score[1])\n",
    "print('Neural network: {:.3f}±{:.3f}'.format(np.mean(scores), np.std(scores)))\n",
    "np.random.set_state(state)"
   ]
  },
  {
   "cell_type": "markdown",
   "metadata": {
    "collapsed": true
   },
   "source": [
    "##### Other ML methods on cross-validation"
   ]
  },
  {
   "cell_type": "code",
   "execution_count": 7,
   "metadata": {},
   "outputs": [
    {
     "name": "stderr",
     "output_type": "stream",
     "text": [
      "/Users/alexparub/Packages/miniconda3/envs/jupyter3/lib/python3.6/site-packages/sklearn/cross_validation.py:41: DeprecationWarning: This module was deprecated in version 0.18 in favor of the model_selection module into which all the refactored classes and functions are moved. Also note that the interface of the new CV iterators are different from that of this module. This module will be removed in 0.20.\n",
      "  \"This module will be removed in 0.20.\", DeprecationWarning)\n",
      "/Users/alexparub/Packages/miniconda3/envs/jupyter3/lib/python3.6/site-packages/sklearn/learning_curve.py:22: DeprecationWarning: This module was deprecated in version 0.18 in favor of the model_selection module into which all the functions are moved. This module will be removed in 0.20\n",
      "  DeprecationWarning)\n"
     ]
    }
   ],
   "source": [
    "from sklearn.model_selection import StratifiedKFold\n",
    "from sklearn.model_selection import KFold\n",
    "\n",
    "from sklearn.metrics import accuracy_score\n",
    "from sklearn.cross_validation import train_test_split\n",
    "from sklearn.model_selection import cross_val_score\n",
    "from sklearn.learning_curve import validation_curve\n",
    "\n",
    "from sklearn.ensemble import GradientBoostingClassifier\n",
    "from sklearn.ensemble import RandomForestClassifier\n",
    "from sklearn.svm import SVC\n",
    "\n",
    "from sklearn.model_selection import GridSearchCV"
   ]
  },
  {
   "cell_type": "code",
   "execution_count": 8,
   "metadata": {
    "collapsed": true
   },
   "outputs": [],
   "source": [
    "X = pd.DataFrame(X, columns = X_no_norm.columns)\n",
    "y = balanced_data.sex "
   ]
  },
  {
   "cell_type": "code",
   "execution_count": 9,
   "metadata": {
    "collapsed": true
   },
   "outputs": [],
   "source": [
    "def cross_val_model(model, X, y, verbose=2):\n",
    "    cv = StratifiedKFold(n_splits=5)\n",
    "    scores = cross_val_score(model, X, y, cv=cv, verbose=verbose, scoring='accuracy')\n",
    "    print('{}: {:.3f}±{:.3f}'.format(model.__class__.__name__, np.mean(scores), np.std(scores)))"
   ]
  },
  {
   "cell_type": "code",
   "execution_count": 10,
   "metadata": {},
   "outputs": [
    {
     "name": "stdout",
     "output_type": "stream",
     "text": [
      "GradientBoostingClassifier: 0.826±0.019\n"
     ]
    }
   ],
   "source": [
    "boost = GradientBoostingClassifier(random_state = 42)\n",
    "cross_val_model(boost, X, y, 0)"
   ]
  },
  {
   "cell_type": "code",
   "execution_count": 11,
   "metadata": {},
   "outputs": [
    {
     "name": "stdout",
     "output_type": "stream",
     "text": [
      "RandomForestClassifier: 0.811±0.021\n"
     ]
    }
   ],
   "source": [
    "forest = RandomForestClassifier(random_state = 42)\n",
    "cross_val_model(forest, X, y, 0)"
   ]
  },
  {
   "cell_type": "code",
   "execution_count": 12,
   "metadata": {},
   "outputs": [
    {
     "name": "stdout",
     "output_type": "stream",
     "text": [
      "SVC: 0.744±0.016\n"
     ]
    }
   ],
   "source": [
    "svm = SVC(random_state = 42, probability=True)\n",
    "cross_val_model(svm, X, y, 0)"
   ]
  },
  {
   "cell_type": "code",
   "execution_count": 13,
   "metadata": {
    "collapsed": true
   },
   "outputs": [],
   "source": [
    "X_train, X_test, y_train, y_test = train_test_split(X, y, test_size=0.33, random_state=42)"
   ]
  },
  {
   "cell_type": "code",
   "execution_count": 14,
   "metadata": {},
   "outputs": [
    {
     "name": "stdout",
     "output_type": "stream",
     "text": [
      "GradientBoostingClassifier: 0.817±0.050\n"
     ]
    }
   ],
   "source": [
    "#stacked model\n",
    "forest.fit(X_train, y_train)\n",
    "svm.fit(X_train, y_train)\n",
    "boost.fit(X_train, y_train)\n",
    "combo = pd.DataFrame({'forest': forest.predict_proba(X_test)[:, 1], \n",
    "                      'svm': svm.predict_proba(X_test)[:, 1], \n",
    "                      'boost': boost.predict_proba(X_test)[:, 1]})\n",
    "cross_val_model(boost, combo, y_test, 0)"
   ]
  },
  {
   "cell_type": "markdown",
   "metadata": {
    "collapsed": true
   },
   "source": [
    "##### Feature importane"
   ]
  },
  {
   "cell_type": "code",
   "execution_count": 15,
   "metadata": {},
   "outputs": [
    {
     "name": "stdout",
     "output_type": "stream",
     "text": [
      "Index(['maxfun', 'mindom', 'dfrange', 'minfun', 'maxdom', 'freq.Q75',\n",
      "       'meanfreq', 'sd', 'sfm', 'time.ent', 'entropy', 'freq.IQR', 'sp.ent',\n",
      "       'meanpeakf', 'modindx', 'kurt', 'skew', 'meandom', 'freq.median',\n",
      "       'freq.Q25', 'meanfun'],\n",
      "      dtype='object')\n"
     ]
    },
    {
     "data": {
      "text/plain": [
       "<BarContainer object of 21 artists>"
      ]
     },
     "execution_count": 15,
     "metadata": {},
     "output_type": "execute_result"
    },
    {
     "data": {
      "image/png": "[encoded data removed]",
      "text/plain": [
       "<Figure size 432x432 with 1 Axes>"
      ]
     },
     "metadata": {},
     "output_type": "display_data"
    }
   ],
   "source": [
    "forest.fit(X_train, y_train)\n",
    "fig, ax = plt.subplots(1, figsize=(6, 6))\n",
    "\n",
    "indices = np.argsort(forest.feature_importances_)\n",
    "std = np.std([tree.feature_importances_ for tree in forest.estimators_],\n",
    "             axis=0)\n",
    "print(X.columns[indices])\n",
    "ax.set_title(\"Feature importances\")\n",
    "ax.barh(range(X.shape[1]), forest.feature_importances_[indices],\n",
    "       color=\"b\", xerr=std[indices], align=\"center\")"
   ]
  },
  {
   "cell_type": "markdown",
   "metadata": {},
   "source": [
    "##### Mean fundamental frequency"
   ]
  },
  {
   "cell_type": "code",
   "execution_count": 16,
   "metadata": {},
   "outputs": [
    {
     "data": {
      "image/png": "[encoded data removed]",
      "text/plain": [
       "<Figure size 432x288 with 1 Axes>"
      ]
     },
     "metadata": {},
     "output_type": "display_data"
    }
   ],
   "source": [
    "fig, ax = plt.subplots(1)\n",
    "\n",
    "ax = balanced_data.meanfun.plot.hist(bins=50)\n",
    "\n",
    "fig.savefig('histspec_50.png')"
   ]
  },
  {
   "cell_type": "code",
   "execution_count": 17,
   "metadata": {},
   "outputs": [
    {
     "data": {
      "text/plain": [
       "[<matplotlib.lines.Line2D at 0x123e47e48>]"
      ]
     },
     "execution_count": 17,
     "metadata": {},
     "output_type": "execute_result"
    },
    {
     "data": {
      "image/png": "[encoded data removed]",
      "text/plain": [
       "<Figure size 432x288 with 1 Axes>"
      ]
     },
     "metadata": {},
     "output_type": "display_data"
    }
   ],
   "source": [
    "fig, ax = plt.subplots(1)\n",
    "\n",
    "ax.plot(np.arange(np.sum(balanced_data.sex == 1)), balanced_data.meanfun[balanced_data.sex == 1], 'ro')\n",
    "ax.plot(np.arange(np.sum(balanced_data.sex == 1), np.size(balanced_data.sex)), balanced_data.meanfun[balanced_data.sex == 0], 'bo')"
   ]
  },
  {
   "cell_type": "markdown",
   "metadata": {
    "collapsed": true
   },
   "source": [
    "##### Best scores on cross-validations gives Boosting and Stacked, let us tune their parameters"
   ]
  },
  {
   "cell_type": "code",
   "execution_count": 18,
   "metadata": {},
   "outputs": [
    {
     "data": {
      "text/plain": [
       "GridSearchCV(cv=5, error_score='raise',\n",
       "       estimator=GradientBoostingClassifier(criterion='friedman_mse', init=None,\n",
       "              learning_rate=0.1, loss='deviance', max_depth=3,\n",
       "              max_features=None, max_leaf_nodes=None,\n",
       "              min_impurity_decrease=0.0, min_impurity_split=None,\n",
       "              min_samples_leaf=1, min_samples_split=2,\n",
       "              min_weight_fraction_leaf=0.0, n_estimators=100,\n",
       "              presort='auto', random_state=42, subsample=1.0, verbose=0,\n",
       "              warm_start=False),\n",
       "       fit_params=None, iid=True, n_jobs=1,\n",
       "       param_grid={'learning_rate': array([0.05, 0.1 , 0.15, 0.2 , 0.25]), 'n_estimators': array([ 80, 100, 120, 140])},\n",
       "       pre_dispatch='2*n_jobs', refit=True, return_train_score=True,\n",
       "       scoring='accuracy', verbose=0)"
      ]
     },
     "execution_count": 18,
     "metadata": {},
     "output_type": "execute_result"
    }
   ],
   "source": [
    "boost = GradientBoostingClassifier(random_state = 42)\n",
    "parameters_b_new = {'learning_rate': np.arange(0.05,0.3, 0.05), 'n_estimators': np.arange(80, 160, 20)}\n",
    "boosting_new = GridSearchCV(boost, param_grid = parameters_b_new, scoring='accuracy', verbose = 0, cv = 5)\n",
    "boosting_new.fit(X_train, y_train)"
   ]
  },
  {
   "cell_type": "code",
   "execution_count": 19,
   "metadata": {},
   "outputs": [
    {
     "name": "stdout",
     "output_type": "stream",
     "text": [
      "0.8318840579710145\n"
     ]
    },
    {
     "data": {
      "text/html": [
       "<div>\n",
       "<style scoped>\n",
       "    .dataframe tbody tr th:only-of-type {\n",
       "        vertical-align: middle;\n",
       "    }\n",
       "\n",
       "    .dataframe tbody tr th {\n",
       "        vertical-align: top;\n",
       "    }\n",
       "\n",
       "    .dataframe thead th {\n",
       "        text-align: right;\n",
       "    }\n",
       "</style>\n",
       "<table border=\"1\" class=\"dataframe\">\n",
       "  <thead>\n",
       "    <tr style=\"text-align: right;\">\n",
       "      <th></th>\n",
       "      <th>0</th>\n",
       "      <th>1</th>\n",
       "    </tr>\n",
       "  </thead>\n",
       "  <tbody>\n",
       "    <tr>\n",
       "      <th>0</th>\n",
       "      <td>148</td>\n",
       "      <td>34</td>\n",
       "    </tr>\n",
       "    <tr>\n",
       "      <th>1</th>\n",
       "      <td>24</td>\n",
       "      <td>139</td>\n",
       "    </tr>\n",
       "  </tbody>\n",
       "</table>\n",
       "</div>"
      ],
      "text/plain": [
       "     0    1\n",
       "0  148   34\n",
       "1   24  139"
      ]
     },
     "execution_count": 19,
     "metadata": {},
     "output_type": "execute_result"
    }
   ],
   "source": [
    "from sklearn.metrics import confusion_matrix, accuracy_score\n",
    "y_predict_boost = boosting_new.predict(X_test)\n",
    "print(accuracy_score(y_predict_boost, y_test))\n",
    "conf_mat = pd.DataFrame(confusion_matrix(y_predict_boost, y_test))\n",
    "conf_mat"
   ]
  },
  {
   "cell_type": "markdown",
   "metadata": {},
   "source": [
    "##### Random forest"
   ]
  },
  {
   "cell_type": "code",
   "execution_count": 20,
   "metadata": {},
   "outputs": [
    {
     "data": {
      "text/plain": [
       "GridSearchCV(cv=5, error_score='raise',\n",
       "       estimator=RandomForestClassifier(bootstrap=True, class_weight=None, criterion='gini',\n",
       "            max_depth=None, max_features='auto', max_leaf_nodes=None,\n",
       "            min_impurity_decrease=0.0, min_impurity_split=None,\n",
       "            min_samples_leaf=1, min_samples_split=2,\n",
       "            min_weight_fraction_leaf=0.0, n_estimators=10, n_jobs=1,\n",
       "            oob_score=False, random_state=42, verbose=0, warm_start=False),\n",
       "       fit_params=None, iid=True, n_jobs=1,\n",
       "       param_grid={'n_estimators': array([20, 25, 30, 35, 40, 45, 50, 55]), 'max_depth': array([2, 3, 4, 5]), 'min_samples_leaf': array([2, 3, 4, 5])},\n",
       "       pre_dispatch='2*n_jobs', refit=True, return_train_score=True,\n",
       "       scoring='accuracy', verbose=0)"
      ]
     },
     "execution_count": 20,
     "metadata": {},
     "output_type": "execute_result"
    }
   ],
   "source": [
    "forest = RandomForestClassifier(random_state = 42)\n",
    "parameters_f_new = {'n_estimators': np.arange(20, 60, 5), 'max_depth': np.arange(2, 6, 1), \n",
    "                   'min_samples_leaf': np.arange(2, 6, 1)}\n",
    "forest_new = GridSearchCV(forest, param_grid = parameters_f_new, scoring='accuracy', verbose = 0, cv = 5)\n",
    "forest_new.fit(X_train, y_train)"
   ]
  },
  {
   "cell_type": "code",
   "execution_count": 21,
   "metadata": {},
   "outputs": [
    {
     "name": "stdout",
     "output_type": "stream",
     "text": [
      "0.744927536231884\n"
     ]
    },
    {
     "data": {
      "text/html": [
       "<div>\n",
       "<style scoped>\n",
       "    .dataframe tbody tr th:only-of-type {\n",
       "        vertical-align: middle;\n",
       "    }\n",
       "\n",
       "    .dataframe tbody tr th {\n",
       "        vertical-align: top;\n",
       "    }\n",
       "\n",
       "    .dataframe thead th {\n",
       "        text-align: right;\n",
       "    }\n",
       "</style>\n",
       "<table border=\"1\" class=\"dataframe\">\n",
       "  <thead>\n",
       "    <tr style=\"text-align: right;\">\n",
       "      <th></th>\n",
       "      <th>0</th>\n",
       "      <th>1</th>\n",
       "    </tr>\n",
       "  </thead>\n",
       "  <tbody>\n",
       "    <tr>\n",
       "      <th>0</th>\n",
       "      <td>127</td>\n",
       "      <td>43</td>\n",
       "    </tr>\n",
       "    <tr>\n",
       "      <th>1</th>\n",
       "      <td>45</td>\n",
       "      <td>130</td>\n",
       "    </tr>\n",
       "  </tbody>\n",
       "</table>\n",
       "</div>"
      ],
      "text/plain": [
       "     0    1\n",
       "0  127   43\n",
       "1   45  130"
      ]
     },
     "execution_count": 21,
     "metadata": {},
     "output_type": "execute_result"
    }
   ],
   "source": [
    "y_predict_fr = forest_new.predict(X_test)\n",
    "print(accuracy_score(y_predict_fr, y_test))\n",
    "conf_mat = pd.DataFrame(confusion_matrix(y_predict_fr, y_test))\n",
    "conf_mat"
   ]
  },
  {
   "cell_type": "markdown",
   "metadata": {},
   "source": [
    "##### SVM\n"
   ]
  },
  {
   "cell_type": "code",
   "execution_count": 22,
   "metadata": {},
   "outputs": [
    {
     "data": {
      "text/plain": [
       "GridSearchCV(cv=3, error_score='raise',\n",
       "       estimator=SVC(C=1.0, cache_size=200, class_weight=None, coef0=0.0,\n",
       "  decision_function_shape='ovr', degree=3, gamma='auto', kernel='rbf',\n",
       "  max_iter=-1, probability=True, random_state=42, shrinking=True,\n",
       "  tol=0.001, verbose=False),\n",
       "       fit_params=None, iid=True, n_jobs=1,\n",
       "       param_grid={'C': array([0.1, 0.2, 0.3, 0.4, 0.5, 0.6, 0.7, 0.8, 0.9, 1. , 1.1]), 'gamma': array([0.1, 0.2, 0.3, 0.4, 0.5, 0.6, 0.7, 0.8, 0.9])},\n",
       "       pre_dispatch='2*n_jobs', refit=True, return_train_score=True,\n",
       "       scoring='accuracy', verbose=0)"
      ]
     },
     "execution_count": 22,
     "metadata": {},
     "output_type": "execute_result"
    }
   ],
   "source": [
    "parameters_s_new = {'C': np.arange(0.1,1.2, 0.1), 'gamma': np.arange(0.1,1, 0.1)}\n",
    "svm_new = GridSearchCV(svm, param_grid = parameters_s_new, scoring='accuracy', verbose = 0, cv = 3)\n",
    "svm_new.fit(X_train, y_train)"
   ]
  },
  {
   "cell_type": "code",
   "execution_count": 23,
   "metadata": {},
   "outputs": [
    {
     "name": "stdout",
     "output_type": "stream",
     "text": [
      "0.8144927536231884\n"
     ]
    },
    {
     "data": {
      "text/html": [
       "<div>\n",
       "<style scoped>\n",
       "    .dataframe tbody tr th:only-of-type {\n",
       "        vertical-align: middle;\n",
       "    }\n",
       "\n",
       "    .dataframe tbody tr th {\n",
       "        vertical-align: top;\n",
       "    }\n",
       "\n",
       "    .dataframe thead th {\n",
       "        text-align: right;\n",
       "    }\n",
       "</style>\n",
       "<table border=\"1\" class=\"dataframe\">\n",
       "  <thead>\n",
       "    <tr style=\"text-align: right;\">\n",
       "      <th></th>\n",
       "      <th>0</th>\n",
       "      <th>1</th>\n",
       "    </tr>\n",
       "  </thead>\n",
       "  <tbody>\n",
       "    <tr>\n",
       "      <th>0</th>\n",
       "      <td>120</td>\n",
       "      <td>12</td>\n",
       "    </tr>\n",
       "    <tr>\n",
       "      <th>1</th>\n",
       "      <td>52</td>\n",
       "      <td>161</td>\n",
       "    </tr>\n",
       "  </tbody>\n",
       "</table>\n",
       "</div>"
      ],
      "text/plain": [
       "     0    1\n",
       "0  120   12\n",
       "1   52  161"
      ]
     },
     "execution_count": 23,
     "metadata": {},
     "output_type": "execute_result"
    }
   ],
   "source": [
    "y_predict_svm = svm_new.predict(X_test)\n",
    "print(accuracy_score(y_predict_svm, y_test))\n",
    "conf_mat = pd.DataFrame(confusion_matrix(y_predict_svm, y_test))\n",
    "conf_mat"
   ]
  },
  {
   "cell_type": "code",
   "execution_count": 24,
   "metadata": {},
   "outputs": [
    {
     "name": "stdout",
     "output_type": "stream",
     "text": [
      "GradientBoostingClassifier: 0.841±0.039\n"
     ]
    }
   ],
   "source": [
    "#stacked model\n",
    "boost.fit(X_train, y_train)\n",
    "combo = pd.DataFrame({'forest': forest_new.predict_proba(X_test)[:, 1], \n",
    "                      'svm': svm_new.predict_proba(X_test)[:, 1], \n",
    "                      'boost': boosting_new.predict_proba(X_test)[:, 1]})\n",
    "cross_val_model(boost, combo, y_test, 0)\n",
    "\n",
    "def cross_val_model_new(model, X, y, verbose=2):\n",
    "    cv = KFold(n_splits=5)\n",
    "    scores = cross_val_score(model, X, y, cv=cv, verbose=verbose, scoring='accuracy')\n",
    "    return (np.mean(scores))"
   ]
  },
  {
   "cell_type": "code",
   "execution_count": 25,
   "metadata": {},
   "outputs": [
    {
     "name": "stdout",
     "output_type": "stream",
     "text": [
      "Choosen metric is accuracy\n",
      "Neural network from the article: 0.817\n",
      "SVM: 0.814\n",
      "Random forest: 0.745\n",
      "Xgboost: 0.832\n",
      "Stacked model: 0.846\n"
     ]
    }
   ],
   "source": [
    "print('Choosen metric is accuracy')\n",
    "print('Neural network from the article: {:.3f}'.format(np.mean(scores), np.std(scores)))\n",
    "print('SVM: {:.3f}'.format(accuracy_score(y_predict_svm, y_test)))\n",
    "print('Random forest: {:.3f}'.format(accuracy_score(y_test, y_predict_fr)))\n",
    "print('Xgboost: {:.3f}'.format(accuracy_score(y_test, y_predict_boost)))\n",
    "print('Stacked model: {:.3f}'.format(cross_val_model_new(boost, combo, y_test, 0)))"
   ]
  },
  {
   "cell_type": "markdown",
   "metadata": {},
   "source": [
    "##### Accuracy decreased as noise appears in the data. Best model and score os Stacked model with 84.6%"
   ]
  }
 ],
 "metadata": {
  "kernelspec": {
   "display_name": "Python 3",
   "language": "python",
   "name": "python3"
  },
  "language_info": {
   "codemirror_mode": {
    "name": "ipython",
    "version": 3
   },
   "file_extension": ".py",
   "mimetype": "text/x-python",
   "name": "python",
   "nbconvert_exporter": "python",
   "pygments_lexer": "ipython3",
   "version": "3.6.3"
  }
 },
 "nbformat": 4,
 "nbformat_minor": 2
}
